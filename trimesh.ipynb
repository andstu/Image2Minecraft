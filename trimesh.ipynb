{
 "cells": [
  {
   "cell_type": "code",
   "execution_count": 4,
   "id": "standard-horizontal",
   "metadata": {},
   "outputs": [],
   "source": [
    "from trimesh.boolean import intersection, union\n",
    "import trimesh\n",
    "import numpy as np"
   ]
  },
  {
   "cell_type": "code",
   "execution_count": 31,
   "id": "renewable-abuse",
   "metadata": {},
   "outputs": [],
   "source": [
    "mesh = trimesh.load_mesh('objs/p3d/mesh_1.obj')\n",
    "cube = trimesh.load_mesh('objs/p3d/results/mesh_1_cube.obj')"
   ]
  },
  {
   "cell_type": "code",
   "execution_count": 35,
   "id": "northern-folder",
   "metadata": {},
   "outputs": [
    {
     "data": {
      "text/plain": [
       "False"
      ]
     },
     "execution_count": 35,
     "metadata": {},
     "output_type": "execute_result"
    }
   ],
   "source": [
    "mesh.fix_normals()\n",
    "mesh.fill_holes()\n"
   ]
  },
  {
   "cell_type": "code",
   "execution_count": 36,
   "id": "urban-vatican",
   "metadata": {},
   "outputs": [
    {
     "name": "stdout",
     "output_type": "stream",
     "text": [
      "0.05984154665720152\n",
      "0.0015312134912812952\n",
      "0.07926282004783906\n"
     ]
    },
    {
     "data": {
      "text/plain": [
       "0.019318180836325676"
      ]
     },
     "execution_count": 36,
     "metadata": {},
     "output_type": "execute_result"
    }
   ],
   "source": [
    "mesh.vertices /= mesh.scale\n",
    "cube.vertices /= cube.scale\n",
    "\n",
    "print(mesh.volume)\n",
    "\n",
    "i = cube.intersection(mesh).volume\n",
    "u = cube.union(mesh).volume\n",
    "print(i)\n",
    "print(u)\n",
    "i/u"
   ]
  }
 ],
 "metadata": {
  "kernelspec": {
   "display_name": "ml",
   "language": "python",
   "name": "ml"
  },
  "language_info": {
   "codemirror_mode": {
    "name": "ipython",
    "version": 3
   },
   "file_extension": ".py",
   "mimetype": "text/x-python",
   "name": "python",
   "nbconvert_exporter": "python",
   "pygments_lexer": "ipython3",
   "version": "3.8.8"
  }
 },
 "nbformat": 4,
 "nbformat_minor": 5
}
