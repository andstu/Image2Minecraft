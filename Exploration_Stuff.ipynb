{
 "cells": [
  {
   "cell_type": "code",
   "execution_count": 1,
   "id": "minus-river",
   "metadata": {},
   "outputs": [],
   "source": [
    "import pickle"
   ]
  },
  {
   "cell_type": "code",
   "execution_count": 3,
   "id": "aerial-hungary",
   "metadata": {},
   "outputs": [],
   "source": [
    "with open(\"objs/p3d/results/voxel_to_block_mesh_1\", 'rb') as pickle_file:\n",
    "    voxel_to_block = pickle.load(pickle_file)"
   ]
  },
  {
   "cell_type": "code",
   "execution_count": 9,
   "id": "absolute-helicopter",
   "metadata": {},
   "outputs": [
    {
     "name": "stdout",
     "output_type": "stream",
     "text": [
      "snow.png\n",
      "gray_terracotta.png\n",
      "brown_terracotta.png\n",
      "nether_bricks.png\n",
      "gray_concrete.png\n",
      "gray_wool.png\n",
      "soul_sand.png\n",
      "black_concrete.png\n",
      "black_wool.png\n",
      "clay.png\n",
      "cyan_terracotta.png\n",
      "black_terracotta.png\n",
      "acacia_log.png\n",
      "dark_oak_planks.png\n",
      "coal_block.png\n",
      "obsidian.png\n",
      "light_gray_terracotta.png\n",
      "red_nether_bricks.png\n",
      "dark_oak_log.png\n",
      "purple_terracotta.png\n",
      "brown_concrete.png\n",
      "nether_wart_block.png\n",
      "light_gray_wool.png\n",
      "smooth_stone.png\n",
      "packed_ice.png\n",
      "diamond_block.png\n",
      "spruce_log.png\n",
      "stripped_dark_oak_log.png\n",
      "light_gray_concrete.png\n",
      "green_wool.png\n",
      "polished_andesite.png\n",
      "gravel.png\n",
      "chiseled_stone_bricks.png\n",
      "stone.png\n",
      "stone_bricks.png\n",
      "spruce_planks.png\n",
      "cracked_stone_bricks.png\n",
      "cyan_wool.png\n",
      "red_concrete.png\n",
      "andesite.png\n",
      "purpur_block.png\n",
      "white_concrete.png\n",
      "mushroom_stem.png\n",
      "black_glazed_terracotta.png\n",
      "iron_block.png\n",
      "red_mushroom_block.png\n",
      "red_wool.png\n",
      "diorite.png\n",
      "purpur_pillar.png\n",
      "light_blue_terracotta.png\n",
      "coal_ore.png\n",
      "mossy_stone_bricks.png\n",
      "quartz_pillar.png\n",
      "chiseled_quartz_block.png\n",
      "note_block.png\n",
      "blue_terracotta.png\n",
      "prismarine_bricks.png\n",
      "cyan_glazed_terracotta.png\n",
      "polished_diorite.png\n",
      "gray_glazed_terracotta.png\n",
      "magenta_concrete.png\n",
      "cobblestone.png\n",
      "iron_ore.png\n",
      "white_wool.png\n"
     ]
    }
   ],
   "source": [
    "unique = []\n",
    "for key, item in voxel_to_block.items():\n",
    "    if item not in unique:\n",
    "        unique.append(item)\n",
    "        print(item)"
   ]
  },
  {
   "cell_type": "code",
   "execution_count": null,
   "id": "amber-conversion",
   "metadata": {},
   "outputs": [],
   "source": []
  }
 ],
 "metadata": {
  "kernelspec": {
   "display_name": "Python 3",
   "language": "python",
   "name": "python3"
  },
  "language_info": {
   "codemirror_mode": {
    "name": "ipython",
    "version": 3
   },
   "file_extension": ".py",
   "mimetype": "text/x-python",
   "name": "python",
   "nbconvert_exporter": "python",
   "pygments_lexer": "ipython3",
   "version": "3.8.8"
  }
 },
 "nbformat": 4,
 "nbformat_minor": 5
}
