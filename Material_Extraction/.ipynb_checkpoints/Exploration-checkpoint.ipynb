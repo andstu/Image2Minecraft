{
 "cells": [
  {
   "cell_type": "code",
   "execution_count": 50,
   "id": "furnished-exhaust",
   "metadata": {},
   "outputs": [],
   "source": [
    "import pywavefront\n",
    "from pywavefront import visualization\n",
    "import pprint\n",
    "import numpy as np"
   ]
  },
  {
   "cell_type": "code",
   "execution_count": 53,
   "id": "facial-integration",
   "metadata": {},
   "outputs": [],
   "source": [
    "path_to_data = \"data/\"\n",
    "file_name = 'mesh_0'\n",
    "obj = pywavefront.Wavefront(f\"{path_to_data}{file_name}.obj\", parse=True, collect_faces=True)\n",
    "material = obj.materials[f\"{file_name}\"]"
   ]
  },
  {
   "cell_type": "code",
   "execution_count": 54,
   "id": "considered-employment",
   "metadata": {},
   "outputs": [],
   "source": [
    "faces = obj.mesh_list[0].faces"
   ]
  },
  {
   "cell_type": "code",
   "execution_count": 56,
   "id": "interim-frederick",
   "metadata": {},
   "outputs": [
    {
     "data": {
      "text/plain": [
       "array([ 0.75   ,  0.375  ,  0.     , ...,  0.     , -0.43221, -0.09183])"
      ]
     },
     "execution_count": 56,
     "metadata": {},
     "output_type": "execute_result"
    }
   ],
   "source": [
    "# dir(obj.mesh_list[0].faces)"
   ]
  },
  {
   "cell_type": "code",
   "execution_count": 43,
   "id": "talented-british",
   "metadata": {},
   "outputs": [
    {
     "data": {
      "text/plain": [
       "['__class__',\n",
       " '__delattr__',\n",
       " '__dict__',\n",
       " '__dir__',\n",
       " '__doc__',\n",
       " '__eq__',\n",
       " '__format__',\n",
       " '__ge__',\n",
       " '__getattribute__',\n",
       " '__gt__',\n",
       " '__hash__',\n",
       " '__init__',\n",
       " '__init_subclass__',\n",
       " '__le__',\n",
       " '__lt__',\n",
       " '__module__',\n",
       " '__ne__',\n",
       " '__new__',\n",
       " '__reduce__',\n",
       " '__reduce_ex__',\n",
       " '__repr__',\n",
       " '__setattr__',\n",
       " '__sizeof__',\n",
       " '__str__',\n",
       " '__subclasshook__',\n",
       " '__weakref__',\n",
       " 'ambient',\n",
       " 'diffuse',\n",
       " 'emissive',\n",
       " 'gl_floats',\n",
       " 'has_colors',\n",
       " 'has_normals',\n",
       " 'has_uvs',\n",
       " 'illumination_model',\n",
       " 'is_default',\n",
       " 'name',\n",
       " 'optical_density',\n",
       " 'pad_light',\n",
       " 'set_alpha',\n",
       " 'set_ambient',\n",
       " 'set_diffuse',\n",
       " 'set_emissive',\n",
       " 'set_specular',\n",
       " 'set_texture',\n",
       " 'set_texture_alpha',\n",
       " 'set_texture_ambient',\n",
       " 'set_texture_bump',\n",
       " 'set_texture_specular_color',\n",
       " 'set_texture_specular_highlight',\n",
       " 'shininess',\n",
       " 'specular',\n",
       " 'texture',\n",
       " 'texture_alpha',\n",
       " 'texture_ambient',\n",
       " 'texture_bump',\n",
       " 'texture_cls',\n",
       " 'texture_specular_color',\n",
       " 'texture_specular_highlight',\n",
       " 'transparency',\n",
       " 'unset_texture',\n",
       " 'vertex_format',\n",
       " 'vertex_size',\n",
       " 'vertices']"
      ]
     },
     "execution_count": 43,
     "metadata": {},
     "output_type": "execute_result"
    }
   ],
   "source": [
    "# obj.vertices\n",
    "# dir(obj)\n",
    "# dir(obj.mesh_list[0])\n",
    "# dir(material)"
   ]
  },
  {
   "cell_type": "code",
   "execution_count": 42,
   "id": "artificial-wrapping",
   "metadata": {},
   "outputs": [],
   "source": [
    "# Faces - 1 (aka from 0)\n",
    "# Actual Faces\n",
    "# obj.mesh_list[0].faces"
   ]
  },
  {
   "cell_type": "code",
   "execution_count": 27,
   "id": "disabled-battery",
   "metadata": {},
   "outputs": [
    {
     "data": {
      "text/plain": [
       "['__add__',\n",
       " '__class__',\n",
       " '__contains__',\n",
       " '__delattr__',\n",
       " '__delitem__',\n",
       " '__dir__',\n",
       " '__doc__',\n",
       " '__eq__',\n",
       " '__format__',\n",
       " '__ge__',\n",
       " '__getattribute__',\n",
       " '__getitem__',\n",
       " '__gt__',\n",
       " '__hash__',\n",
       " '__iadd__',\n",
       " '__imul__',\n",
       " '__init__',\n",
       " '__init_subclass__',\n",
       " '__iter__',\n",
       " '__le__',\n",
       " '__len__',\n",
       " '__lt__',\n",
       " '__mul__',\n",
       " '__ne__',\n",
       " '__new__',\n",
       " '__reduce__',\n",
       " '__reduce_ex__',\n",
       " '__repr__',\n",
       " '__reversed__',\n",
       " '__rmul__',\n",
       " '__setattr__',\n",
       " '__setitem__',\n",
       " '__sizeof__',\n",
       " '__str__',\n",
       " '__subclasshook__',\n",
       " 'append',\n",
       " 'clear',\n",
       " 'copy',\n",
       " 'count',\n",
       " 'extend',\n",
       " 'index',\n",
       " 'insert',\n",
       " 'pop',\n",
       " 'remove',\n",
       " 'reverse',\n",
       " 'sort']"
      ]
     },
     "execution_count": 27,
     "metadata": {},
     "output_type": "execute_result"
    }
   ],
   "source": [
    "dir(obj.mesh_list[0].materials[0].vertices)"
   ]
  },
  {
   "cell_type": "code",
   "execution_count": null,
   "id": "postal-shirt",
   "metadata": {},
   "outputs": [],
   "source": []
  },
  {
   "cell_type": "code",
   "execution_count": null,
   "id": "mexican-pearl",
   "metadata": {},
   "outputs": [],
   "source": []
  }
 ],
 "metadata": {
  "kernelspec": {
   "display_name": "ml",
   "language": "python",
   "name": "ml"
  },
  "language_info": {
   "codemirror_mode": {
    "name": "ipython",
    "version": 3
   },
   "file_extension": ".py",
   "mimetype": "text/x-python",
   "name": "python",
   "nbconvert_exporter": "python",
   "pygments_lexer": "ipython3",
   "version": "3.8.8"
  }
 },
 "nbformat": 4,
 "nbformat_minor": 5
}
