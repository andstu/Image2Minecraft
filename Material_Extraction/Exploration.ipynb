{
 "cells": [
  {
   "cell_type": "code",
   "execution_count": 50,
   "id": "chicken-oregon",
   "metadata": {},
   "outputs": [],
   "source": [
    "import pywavefront\n",
    "from pywavefront import visualization\n",
    "import pprint\n",
    "import numpy as np"
   ]
  },
  {
   "cell_type": "code",
   "execution_count": 53,
   "id": "blind-munich",
   "metadata": {},
   "outputs": [],
   "source": [
    "path_to_data = \"data/\"\n",
    "file_name = 'mesh_0'\n",
    "obj = pywavefront.Wavefront(f\"{path_to_data}{file_name}.obj\", parse=True, collect_faces=True)\n",
    "material = obj.materials[f\"{file_name}\"]"
   ]
  },
  {
   "cell_type": "code",
   "execution_count": 54,
   "id": "administrative-catering",
   "metadata": {},
   "outputs": [],
   "source": [
    "faces = obj.mesh_list[0].faces"
   ]
  },
  {
   "cell_type": "code",
   "execution_count": 56,
   "id": "supreme-checkout",
   "metadata": {},
   "outputs": [
    {
     "data": {
      "text/plain": [
       "array([ 0.75   ,  0.375  ,  0.     , ...,  0.     , -0.43221, -0.09183])"
      ]
     },
     "execution_count": 56,
     "metadata": {},
     "output_type": "execute_result"
    }
   ],
   "source": [
    "# dir(obj.mesh_list[0].faces)"
   ]
  },
  {
   "cell_type": "code",
   "execution_count": 58,
   "id": "ordered-victim",
   "metadata": {},
   "outputs": [
    {
     "data": {
      "text/plain": [
       "['__class__',\n",
       " '__delattr__',\n",
       " '__dict__',\n",
       " '__dir__',\n",
       " '__doc__',\n",
       " '__eq__',\n",
       " '__format__',\n",
       " '__ge__',\n",
       " '__getattribute__',\n",
       " '__gt__',\n",
       " '__hash__',\n",
       " '__init__',\n",
       " '__init_subclass__',\n",
       " '__le__',\n",
       " '__lt__',\n",
       " '__module__',\n",
       " '__ne__',\n",
       " '__new__',\n",
       " '__reduce__',\n",
       " '__reduce_ex__',\n",
       " '__repr__',\n",
       " '__setattr__',\n",
       " '__sizeof__',\n",
       " '__str__',\n",
       " '__subclasshook__',\n",
       " '__weakref__',\n",
       " '_name',\n",
       " '_options',\n",
       " '_path',\n",
       " '_search_path',\n",
       " 'exists',\n",
       " 'file_name',\n",
       " 'find',\n",
       " 'image',\n",
       " 'image_name',\n",
       " 'name',\n",
       " 'options',\n",
       " 'path']"
      ]
     },
     "execution_count": 58,
     "metadata": {},
     "output_type": "execute_result"
    }
   ],
   "source": [
    "# obj.vertices\n",
    "# dir(obj)\n",
    "# dir(obj.mesh_list[0])\n",
    "# dir(material)\n",
    "dir(material.texture)"
   ]
  },
  {
   "cell_type": "code",
   "execution_count": 42,
   "id": "cubic-green",
   "metadata": {},
   "outputs": [],
   "source": [
    "# Faces - 1 (aka from 0)\n",
    "# Actual Faces\n",
    "# obj.mesh_list[0].faces"
   ]
  },
  {
   "cell_type": "code",
   "execution_count": 27,
   "id": "clinical-updating",
   "metadata": {},
   "outputs": [
    {
     "data": {
      "text/plain": [
       "['__add__',\n",
       " '__class__',\n",
       " '__contains__',\n",
       " '__delattr__',\n",
       " '__delitem__',\n",
       " '__dir__',\n",
       " '__doc__',\n",
       " '__eq__',\n",
       " '__format__',\n",
       " '__ge__',\n",
       " '__getattribute__',\n",
       " '__getitem__',\n",
       " '__gt__',\n",
       " '__hash__',\n",
       " '__iadd__',\n",
       " '__imul__',\n",
       " '__init__',\n",
       " '__init_subclass__',\n",
       " '__iter__',\n",
       " '__le__',\n",
       " '__len__',\n",
       " '__lt__',\n",
       " '__mul__',\n",
       " '__ne__',\n",
       " '__new__',\n",
       " '__reduce__',\n",
       " '__reduce_ex__',\n",
       " '__repr__',\n",
       " '__reversed__',\n",
       " '__rmul__',\n",
       " '__setattr__',\n",
       " '__setitem__',\n",
       " '__sizeof__',\n",
       " '__str__',\n",
       " '__subclasshook__',\n",
       " 'append',\n",
       " 'clear',\n",
       " 'copy',\n",
       " 'count',\n",
       " 'extend',\n",
       " 'index',\n",
       " 'insert',\n",
       " 'pop',\n",
       " 'remove',\n",
       " 'reverse',\n",
       " 'sort']"
      ]
     },
     "execution_count": 27,
     "metadata": {},
     "output_type": "execute_result"
    }
   ],
   "source": [
    "dir(obj.mesh_list[0].materials[0].vertices)"
   ]
  },
  {
   "cell_type": "code",
   "execution_count": null,
   "id": "metropolitan-discount",
   "metadata": {},
   "outputs": [],
   "source": []
  },
  {
   "cell_type": "code",
   "execution_count": null,
   "id": "cognitive-horizon",
   "metadata": {},
   "outputs": [],
   "source": []
  }
 ],
 "metadata": {
  "kernelspec": {
   "display_name": "ml",
   "language": "python",
   "name": "ml"
  },
  "language_info": {
   "codemirror_mode": {
    "name": "ipython",
    "version": 3
   },
   "file_extension": ".py",
   "mimetype": "text/x-python",
   "name": "python",
   "nbconvert_exporter": "python",
   "pygments_lexer": "ipython3",
   "version": "3.8.8"
  }
 },
 "nbformat": 4,
 "nbformat_minor": 5
}
