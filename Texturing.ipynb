{
 "cells": [
  {
   "cell_type": "code",
   "execution_count": 1,
   "id": "damaged-heating",
   "metadata": {},
   "outputs": [],
   "source": [
    "import numpy as np\n",
    "from scipy import stats"
   ]
  },
  {
   "cell_type": "code",
   "execution_count": 2,
   "id": "secondary-banana",
   "metadata": {},
   "outputs": [],
   "source": [
    "def Get_OBJ_Data(path_to_data, file_name):\n",
    "    # Dictionary storing OBJ data\n",
    "    obj = {\n",
    "    \"v\": [],\n",
    "    \"f\": []\n",
    "    }\n",
    "\n",
    "    # Parses and reads OBJ\n",
    "    # Assumes Specific Format\n",
    "    with open(f\"{path_to_data}{file_name}.obj\") as f:\n",
    "        for i, line in enumerate(f):\n",
    "            tokenized_line = line.split()\n",
    "            key = tokenized_line[0]\n",
    "            \n",
    "            if key in [\"mtllib\", \"usemtl\"]:\n",
    "                # could be important in the future             \n",
    "                continue\n",
    "            elif key == \"f\":\n",
    "                numbers_pairs = [x.split(\"/\") for x in tokenized_line[1:]]\n",
    "                obj[key].append(list(map(lambda x: int(x[0]), numbers_pairs)))\n",
    "            else:\n",
    "                numbers = [float(x) for x in tokenized_line[1:]]\n",
    "                obj[key].append(numbers)\n",
    "\n",
    "    for key,value in obj.items():\n",
    "        obj[key] = np.array(value)\n",
    "\n",
    "    return obj"
   ]
  },
  {
   "cell_type": "code",
   "execution_count": 3,
   "id": "municipal-strengthening",
   "metadata": {},
   "outputs": [
    {
     "name": "stdout",
     "output_type": "stream",
     "text": [
      "[[-49. -47. -14.]\n",
      " [-49. -47. -13.]\n",
      " [-49. -46. -14.]]\n",
      "[-48.5 -46.5 -13.5]\n"
     ]
    }
   ],
   "source": [
    "obj = Get_OBJ_Data('objs/p3d/results/', 'mesh_1_cube')\n",
    "f = np.round(obj['v'][obj['f'][0] - 1] * 49)\n",
    "v1 = f[1] - f[0]\n",
    "v2 = f[2] - f[0]\n",
    "\n",
    "norm = np.cross(v1, v2)\n",
    "print(f)\n",
    "\n",
    "midpoint = (f[1] - f[2]) /2 + f[2] - norm / 2\n",
    "\n",
    "\n",
    "print(midpoint)"
   ]
  },
  {
   "cell_type": "code",
   "execution_count": 4,
   "id": "sound-basis",
   "metadata": {},
   "outputs": [
    {
     "name": "stdout",
     "output_type": "stream",
     "text": [
      "(16896, 3)\n",
      "(16896, 3)\n",
      "(16896, 3)\n",
      "(16896, 3, 3)\n",
      "(16896, 3)\n"
     ]
    }
   ],
   "source": [
    "cube_world = np.load('objs/p3d/results/cube_world_mesh_1.npy')\n",
    "faces = np.round(obj['v'][(obj['f'] - 1)[:]] * 49).astype('int32')\n",
    "v1 = faces[:, 1] - faces[:, 0]\n",
    "v2 = faces[:, 2] - faces[:, 0]\n",
    "\n",
    "print(v1.shape)\n",
    "print(v2.shape)\n",
    "\n",
    "norm = np.cross(v1, v2)\n",
    "print(norm.shape)\n",
    "print(faces.shape)\n",
    "\n",
    "midpoint = (faces[:, 1] - faces[:, 2]) /2 + faces[:, 2] - norm / 2\n",
    "print(midpoint.shape)"
   ]
  },
  {
   "cell_type": "code",
   "execution_count": 5,
   "id": "cross-church",
   "metadata": {},
   "outputs": [
    {
     "data": {
      "text/plain": [
       "False"
      ]
     },
     "execution_count": 5,
     "metadata": {},
     "output_type": "execute_result"
    }
   ],
   "source": [
    "xyz = midpoint.astype('int32')\n",
    "np.all(cube_world[xyz[:, 0], xyz[:, 1], xyz[:, 2]] == 1)"
   ]
  },
  {
   "cell_type": "code",
   "execution_count": 6,
   "id": "elder-oliver",
   "metadata": {},
   "outputs": [],
   "source": [
    "import os\n",
    "import cv2\n",
    "import pickle"
   ]
  },
  {
   "cell_type": "code",
   "execution_count": 7,
   "id": "considered-clause",
   "metadata": {},
   "outputs": [
    {
     "data": {
      "text/plain": [
       "True"
      ]
     },
     "execution_count": 7,
     "metadata": {},
     "output_type": "execute_result"
    }
   ],
   "source": [
    "block_path = \"MinecraftTextures/block/\"\n",
    "\n",
    "MAX_NUM_MINECRAFT_TEXTURES = len(list(os.listdir(block_path)))\n",
    "\n",
    "filter_list = []\n",
    "\n",
    "texture_width = 16\n",
    "texture = np.zeros((MAX_NUM_MINECRAFT_TEXTURES * texture_width, texture_width, 3))\n",
    "block_to_texture = {}\n",
    "\n",
    "cur_coord = 0\n",
    "for file in os.listdir(block_path):\n",
    "    if not file.endswith(\".png\"):\n",
    "        continue\n",
    "\n",
    "    block = file.replace(\".png\", \"\")\n",
    "    block_to_texture[block] = cur_coord\n",
    "    \n",
    "    image = cv2.imread(f\"{block_path}{file}\")\n",
    "    texture[cur_coord:cur_coord + texture_width,:] = image\n",
    "    cur_coord += texture_width\n",
    "    \n",
    "with open(\"block_to_texture.pkl\", \"wb\") as f:\n",
    "    pickle.dump(block_to_texture, f)\n",
    "\n",
    "cv2.imwrite(\"all_mc_textures.png\", texture)"
   ]
  },
  {
   "cell_type": "code",
   "execution_count": 8,
   "id": "rational-cleaner",
   "metadata": {},
   "outputs": [],
   "source": [
    "with open(\"objs/p3d/results/voxel_to_block_mesh_1\", \"rb\") as f:\n",
    "    voxel_to_block = pickle.load(f)"
   ]
  },
  {
   "cell_type": "code",
   "execution_count": 9,
   "id": "african-nomination",
   "metadata": {},
   "outputs": [],
   "source": [
    "# ft = []\n",
    "# for f in faces:"
   ]
  },
  {
   "cell_type": "code",
   "execution_count": 10,
   "id": "signal-proceeding",
   "metadata": {},
   "outputs": [
    {
     "data": {
      "text/plain": [
       "array([[-48, -46, -13],\n",
       "       [-48, -46, -12],\n",
       "       [-48, -46, -11],\n",
       "       ...,\n",
       "       [-24, -39,  -5],\n",
       "       [-24, -38, -11],\n",
       "       [-24, -38,  -6]], dtype=int32)"
      ]
     },
     "execution_count": 10,
     "metadata": {},
     "output_type": "execute_result"
    }
   ],
   "source": [
    "xyz"
   ]
  },
  {
   "cell_type": "code",
   "execution_count": null,
   "id": "alleged-contract",
   "metadata": {},
   "outputs": [],
   "source": []
  }
 ],
 "metadata": {
  "kernelspec": {
   "display_name": "Python 3",
   "language": "python",
   "name": "python3"
  },
  "language_info": {
   "codemirror_mode": {
    "name": "ipython",
    "version": 3
   },
   "file_extension": ".py",
   "mimetype": "text/x-python",
   "name": "python",
   "nbconvert_exporter": "python",
   "pygments_lexer": "ipython3",
   "version": "3.8.8"
  }
 },
 "nbformat": 4,
 "nbformat_minor": 5
}
