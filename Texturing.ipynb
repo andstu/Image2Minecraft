{
 "cells": [
  {
   "cell_type": "code",
   "execution_count": 1,
   "id": "supposed-referral",
   "metadata": {},
   "outputs": [],
   "source": [
    "import numpy as np\n",
    "from scipy import stats"
   ]
  },
  {
   "cell_type": "code",
   "execution_count": 2,
   "id": "altered-hygiene",
   "metadata": {},
   "outputs": [],
   "source": [
    "def Get_OBJ_Data(path_to_data, file_name):\n",
    "    # Dictionary storing OBJ data\n",
    "    obj = {\n",
    "    \"v\": [],\n",
    "    \"f\": []\n",
    "    }\n",
    "\n",
    "    # Parses and reads OBJ\n",
    "    # Assumes Specific Format\n",
    "    with open(f\"{path_to_data}{file_name}.obj\") as f:\n",
    "        for i, line in enumerate(f):\n",
    "            tokenized_line = line.split()\n",
    "            key = tokenized_line[0]\n",
    "            \n",
    "            if key in [\"mtllib\", \"usemtl\"]:\n",
    "                # could be important in the future             \n",
    "                continue\n",
    "            elif key == \"f\":\n",
    "                numbers_pairs = [x.split(\"/\") for x in tokenized_line[1:]]\n",
    "                obj[key].append(list(map(lambda x: int(x[0]), numbers_pairs)))\n",
    "            else:\n",
    "                numbers = [float(x) for x in tokenized_line[1:]]\n",
    "                obj[key].append(numbers)\n",
    "\n",
    "    for key,value in obj.items():\n",
    "        obj[key] = np.array(value)\n",
    "\n",
    "    return obj"
   ]
  },
  {
   "cell_type": "code",
   "execution_count": 3,
   "id": "ceramic-poetry",
   "metadata": {},
   "outputs": [
    {
     "name": "stdout",
     "output_type": "stream",
     "text": [
      "[[ 0.  2. 36.]\n",
      " [ 0.  2. 37.]\n",
      " [ 0.  3. 36.]]\n",
      "[ 0.5  2.5 36.5]\n"
     ]
    }
   ],
   "source": [
    "obj = Get_OBJ_Data('objs/p3d/results/', 'mesh_1_cube')\n",
    "f = np.round(obj['v'][obj['f'][0] - 1] * 49)\n",
    "v1 = f[1] - f[0]\n",
    "v2 = f[2] - f[0]\n",
    "\n",
    "norm = np.cross(v1, v2)\n",
    "print(f)\n",
    "\n",
    "midpoint = (f[1] - f[2]) /2 + f[2] - norm / 2\n",
    "\n",
    "\n",
    "print(midpoint)"
   ]
  },
  {
   "cell_type": "code",
   "execution_count": 4,
   "id": "functioning-programmer",
   "metadata": {},
   "outputs": [
    {
     "name": "stdout",
     "output_type": "stream",
     "text": [
      "(16896, 3)\n",
      "(16896, 3)\n",
      "(16896, 3)\n",
      "(16896, 3, 3)\n",
      "(16896, 3)\n"
     ]
    }
   ],
   "source": [
    "cube_world = np.load('objs/p3d/results/cube_world_mesh_1.npy')\n",
    "faces = np.round(obj['v'][(obj['f'] - 1)[:]] * 49).astype('int32')\n",
    "v1 = faces[:, 1] - faces[:, 0]\n",
    "v2 = faces[:, 2] - faces[:, 0]\n",
    "\n",
    "print(v1.shape)\n",
    "print(v2.shape)\n",
    "\n",
    "norm = np.cross(v1, v2)\n",
    "print(norm.shape)\n",
    "print(faces.shape)\n",
    "\n",
    "midpoint = (faces[:, 1] - faces[:, 2]) /2 + faces[:, 2] - norm / 2\n",
    "print(midpoint.shape)"
   ]
  },
  {
   "cell_type": "code",
   "execution_count": 5,
   "id": "enabling-cincinnati",
   "metadata": {},
   "outputs": [
    {
     "data": {
      "text/plain": [
       "True"
      ]
     },
     "execution_count": 5,
     "metadata": {},
     "output_type": "execute_result"
    }
   ],
   "source": [
    "xyz = midpoint.astype('int32')\n",
    "np.all(cube_world[xyz[:, 0], xyz[:, 1], xyz[:, 2]] == 1)"
   ]
  },
  {
   "cell_type": "code",
   "execution_count": 6,
   "id": "eastern-antigua",
   "metadata": {},
   "outputs": [],
   "source": [
    "import os\n",
    "import cv2\n",
    "import pickle"
   ]
  },
  {
   "cell_type": "code",
   "execution_count": 99,
   "id": "orange-mississippi",
   "metadata": {},
   "outputs": [
    {
     "data": {
      "text/plain": [
       "True"
      ]
     },
     "execution_count": 99,
     "metadata": {},
     "output_type": "execute_result"
    }
   ],
   "source": [
    "block_path = \"MinecraftTextures/block/\"\n",
    "\n",
    "MAX_NUM_MINECRAFT_TEXTURES = len(list(os.listdir(block_path)))\n",
    "\n",
    "filter_list = []\n",
    "\n",
    "texture_width = 16\n",
    "texture = np.zeros((MAX_NUM_MINECRAFT_TEXTURES * texture_width, texture_width, 3))\n",
    "block_to_texture = {}\n",
    "\n",
    "cur_coord = 0\n",
    "for file in os.listdir(block_path):\n",
    "    if not file.endswith(\".png\"):\n",
    "        continue\n",
    "    \n",
    "    t_offset = cur_coord\n",
    "    y = t_offset/(MAX_NUM_MINECRAFT_TEXTURES * texture_width)\n",
    "    block_to_texture[file] = [[0, 1 - y], [1, 1 - y], [1, 1 - (y + 1/MAX_NUM_MINECRAFT_TEXTURES)]]\n",
    "#     block_to_texture[file] = [[0, 0], [1, 0], [1, 1/MAX_NUM_MINECRAFT_TEXTURES]]\n",
    "\n",
    "    \n",
    "    image = cv2.imread(f\"{block_path}{file}\")\n",
    "    texture[cur_coord:cur_coord + texture_width,:] = image\n",
    "    cur_coord += texture_width\n",
    "    \n",
    "with open(\"block_to_texture.pkl\", \"wb\") as f:\n",
    "    pickle.dump(block_to_texture, f)\n",
    "\n",
    "cv2.imwrite(\"all_mc_textures.png\", texture)"
   ]
  },
  {
   "cell_type": "code",
   "execution_count": 100,
   "id": "anonymous-parliament",
   "metadata": {},
   "outputs": [],
   "source": [
    "with open(\"objs/p3d/results/voxel_to_block_mesh_1\", \"rb\") as f:\n",
    "    voxel_to_block = pickle.load(f)"
   ]
  },
  {
   "cell_type": "code",
   "execution_count": 101,
   "id": "rapid-scene",
   "metadata": {},
   "outputs": [],
   "source": [
    "vt_lines = []\n",
    "face_lines = []\n",
    "ft_idx = 1\n",
    "for f, voxel in zip(obj[\"f\"], xyz):\n",
    "    block = voxel_to_block[tuple(voxel)]\n",
    "    \n",
    "    vt = block_to_texture[block]\n",
    "    vt_lines.append(\"\\n\".join([\"vt \" + x for x in map(lambda v: \" \".join([str(y) for y in v]), vt)]))\n",
    "    \n",
    "    \n",
    "    line = \"f \"\n",
    "    for i in range(3):\n",
    "        line += f\"{f[i]}/{ft_idx} \"\n",
    "        ft_idx += 1\n",
    "    \n",
    "    face_lines.append(line)"
   ]
  },
  {
   "cell_type": "code",
   "execution_count": 102,
   "id": "southwest-soldier",
   "metadata": {},
   "outputs": [],
   "source": [
    "with open(\"FORMAT.mtl\", \"r\") as f:\n",
    "    mtl_text = f.read().replace(\"MESH\", \"mesh_1\")"
   ]
  },
  {
   "cell_type": "code",
   "execution_count": 103,
   "id": "photographic-tonight",
   "metadata": {},
   "outputs": [],
   "source": [
    "with open(\"mesh_1.mtl\", \"w\") as f:\n",
    "    f.write(mtl_text)"
   ]
  },
  {
   "cell_type": "code",
   "execution_count": 104,
   "id": "above-kentucky",
   "metadata": {},
   "outputs": [],
   "source": [
    "with open(\"textured_mesh.obj\", \"w\") as f:\n",
    "#     mtllib mesh_0.mtl\n",
    "    contents = \"mtllib mesh_1.mtl\\n\"\n",
    "    contents += \"\\n\".join([\"v \" + x for x in map(lambda v: \" \".join([str(y) for y in v]), obj[\"v\"])])\n",
    "    contents += \"\\n\"\n",
    "    contents += \"\\n\".join(vt_lines)\n",
    "    contents += \"\\n\"\n",
    "    contents += \"usemtl mesh_1\" + \"\\n\"\n",
    "    contents += \"\\n\".join(face_lines)\n",
    "    f.write(contents)"
   ]
  },
  {
   "cell_type": "code",
   "execution_count": null,
   "id": "ahead-running",
   "metadata": {},
   "outputs": [],
   "source": []
  }
 ],
 "metadata": {
  "kernelspec": {
   "display_name": "Python 3",
   "language": "python",
   "name": "python3"
  },
  "language_info": {
   "codemirror_mode": {
    "name": "ipython",
    "version": 3
   },
   "file_extension": ".py",
   "mimetype": "text/x-python",
   "name": "python",
   "nbconvert_exporter": "python",
   "pygments_lexer": "ipython3",
   "version": "3.8.8"
  }
 },
 "nbformat": 4,
 "nbformat_minor": 5
}
