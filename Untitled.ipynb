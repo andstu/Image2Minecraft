{
 "cells": [
  {
   "cell_type": "code",
   "execution_count": 1,
   "id": "reserved-demand",
   "metadata": {},
   "outputs": [],
   "source": [
    "%load_ext autoreload\n",
    "%autoreload 2"
   ]
  },
  {
   "cell_type": "code",
   "execution_count": 2,
   "id": "composite-light",
   "metadata": {},
   "outputs": [],
   "source": [
    "import numpy as np\n",
    "import torch\n",
    "import trimesh\n",
    "import pyrender\n",
    "import matplotlib.pyplot as plt\n",
    "from PIL import Image\n",
    "from testing import *\n",
    "from generator import generate, Get_Minecraft_Textures\n",
    "from texturing import texture_cube_mesh\n",
    "import black_box as bb\n",
    "import pickle"
   ]
  },
  {
   "cell_type": "code",
   "execution_count": 3,
   "id": "arctic-printing",
   "metadata": {},
   "outputs": [],
   "source": [
    "block_path = \"MinecraftTextures/block/\"\n",
    "resolution = 25\n",
    "metric = \"w_eucl\"\n",
    "filter_list = Create_Filter_List(block_path)\n",
    "\n",
    "dataset = \"p3d\"\n",
    "file_name = \"mesh_1\"\n",
    "path_to_data = f'objs/{dataset}/'\n",
    "cube_path = f'objs/{dataset}/results/'\n",
    "cube_file = f'{file_name}_cube_textured'"
   ]
  },
  {
   "cell_type": "code",
   "execution_count": 4,
   "id": "governing-individual",
   "metadata": {},
   "outputs": [
    {
     "name": "stdout",
     "output_type": "stream",
     "text": [
      "Num Blocks :  150\n"
     ]
    }
   ],
   "source": [
    "block_names, _ = Get_Minecraft_Textures(block_path, filter_list)\n",
    "\n",
    "print(f\"Num Blocks : \", len(block_names))"
   ]
  },
  {
   "cell_type": "code",
   "execution_count": 5,
   "id": "monthly-pocket",
   "metadata": {},
   "outputs": [
    {
     "name": "stdout",
     "output_type": "stream",
     "text": [
      "Getting OBJ\n",
      "Getting Voxel Data\n",
      "Getting Minecraft Data\n",
      "Mapping Voxel to Minecraft Block\n",
      "Creating Cube Mesh\n",
      "Saving Data\n",
      "1\n",
      "2\n",
      "3\n",
      "<pyrender.offscreen.OffscreenRenderer object at 0x7fd84f1124f0>\n",
      "TROLL\n",
      "DOG\n",
      "4\n",
      "2\n",
      "3\n",
      "<pyrender.offscreen.OffscreenRenderer object at 0x7fd84f112310>\n",
      "TROLL\n",
      "DOG\n",
      "4\n",
      "2\n",
      "3\n",
      "<pyrender.offscreen.OffscreenRenderer object at 0x7fd84f112400>\n",
      "TROLL\n",
      "DOG\n",
      "4\n",
      "2\n",
      "3\n",
      "<pyrender.offscreen.OffscreenRenderer object at 0x7fd84d8181f0>\n",
      "TROLL\n",
      "DOG\n",
      "4\n",
      "2\n",
      "3\n",
      "<pyrender.offscreen.OffscreenRenderer object at 0x7fd84cfe15e0>\n",
      "TROLL\n",
      "DOG\n",
      "4\n",
      "2\n",
      "3\n",
      "<pyrender.offscreen.OffscreenRenderer object at 0x7fd84cffe1f0>\n",
      "TROLL\n",
      "DOG\n",
      "4\n",
      "2\n",
      "3\n",
      "<pyrender.offscreen.OffscreenRenderer object at 0x7fd84d7f61c0>\n",
      "TROLL\n",
      "DOG\n",
      "4\n",
      "2\n",
      "3\n",
      "<pyrender.offscreen.OffscreenRenderer object at 0x7fd84cc75700>\n",
      "TROLL\n",
      "DOG\n",
      "4\n"
     ]
    },
    {
     "data": {
      "text/plain": [
       "<Figure size 432x288 with 0 Axes>"
      ]
     },
     "metadata": {},
     "output_type": "display_data"
    },
    {
     "data": {
      "text/plain": [
       "<Figure size 432x288 with 0 Axes>"
      ]
     },
     "metadata": {},
     "output_type": "display_data"
    },
    {
     "data": {
      "text/plain": [
       "<Figure size 432x288 with 0 Axes>"
      ]
     },
     "metadata": {},
     "output_type": "display_data"
    },
    {
     "data": {
      "text/plain": [
       "<Figure size 432x288 with 0 Axes>"
      ]
     },
     "metadata": {},
     "output_type": "display_data"
    },
    {
     "data": {
      "text/plain": [
       "<Figure size 432x288 with 0 Axes>"
      ]
     },
     "metadata": {},
     "output_type": "display_data"
    },
    {
     "data": {
      "text/plain": [
       "<Figure size 432x288 with 0 Axes>"
      ]
     },
     "metadata": {},
     "output_type": "display_data"
    },
    {
     "data": {
      "text/plain": [
       "<Figure size 432x288 with 0 Axes>"
      ]
     },
     "metadata": {},
     "output_type": "display_data"
    },
    {
     "data": {
      "text/plain": [
       "<Figure size 432x288 with 0 Axes>"
      ]
     },
     "metadata": {},
     "output_type": "display_data"
    }
   ],
   "source": [
    "# Initializes the Voxel_To_Block\n",
    "generate(path_to_data, file_name, block_path, resolution, metric, filter_list=filter_list)\n",
    "\n",
    "# Renders Initial Pictures Of OG Image\n",
    "render_mesh(path_to_data, file_name, dataset)"
   ]
  },
  {
   "cell_type": "code",
   "execution_count": 6,
   "id": "indian-proposal",
   "metadata": {},
   "outputs": [
    {
     "name": "stdout",
     "output_type": "stream",
     "text": [
      "Num Voxels :  996\n"
     ]
    }
   ],
   "source": [
    "with open(f\"{path_to_data}/results/voxel_to_block_{file_name}\", \"rb\") as f:\n",
    "    voxel_to_block = pickle.load(f)\n",
    "\n",
    "valid_voxels = list(voxel_to_block.keys())\n",
    "print(f\"Num Voxels : \", len(valid_voxels))"
   ]
  },
  {
   "cell_type": "code",
   "execution_count": 7,
   "id": "false-gross",
   "metadata": {},
   "outputs": [],
   "source": [
    "def bb_fun(block_weights):\n",
    "    print(\"Iteration\")\n",
    "    block_indexes = np.rint(block_weights).astype(int)\n",
    "    \n",
    "    voxel_to_block = {}\n",
    "#     print(\"zzzz\")\n",
    "#     print(block_indexes)\n",
    "    \n",
    "    for i, voxel in enumerate(valid_voxels):\n",
    "#         print(voxel)\n",
    "#         print(block_indexes[i])\n",
    "        block = block_names[block_indexes[i]]\n",
    "#         print(block)\n",
    "        voxel_to_block[voxel] = block\n",
    "    \n",
    "    print(\"2\")\n",
    "        \n",
    "    with open(f\"{path_to_data}/results/voxel_to_block_{file_name}\", \"wb\") as f:\n",
    "        pickle.dump(voxel_to_block, f)\n",
    "        \n",
    "    \n",
    "    # Compute Optimization Metric\n",
    "    print(\"3\")\n",
    "    texture_cube_mesh(path_to_data, file_name)\n",
    "    print(\"4\")\n",
    "    render_mesh(cube_path, cube_file, dataset)\n",
    "    print(\"5\")\n",
    "    dist = compare_images(file_name, img_dir=f'results/{dataset}/')\n",
    "    print(\"Simm: \", dist)\n",
    "    return dist\n",
    "    "
   ]
  },
  {
   "cell_type": "code",
   "execution_count": 8,
   "id": "functional-remains",
   "metadata": {},
   "outputs": [
    {
     "name": "stdout",
     "output_type": "stream",
     "text": [
      "[blackbox] evaluating batch 1/10000 (samples 1..1/10000) @ 2021-05-11 15:24:33 ...\n",
      "Iteration\n",
      "2\n",
      "3\n",
      "4\n",
      "1\n",
      "2\n",
      "3\n",
      "<pyrender.offscreen.OffscreenRenderer object at 0x7fd84d00e340>\n",
      "TROLL\n",
      "DOG\n",
      "4\n",
      "2\n",
      "3\n",
      "<pyrender.offscreen.OffscreenRenderer object at 0x7fd84d00e610>\n",
      "TROLL\n",
      "DOG\n",
      "4\n",
      "2\n",
      "3\n",
      "<pyrender.offscreen.OffscreenRenderer object at 0x7fd84d013f10>\n",
      "TROLL\n",
      "DOG\n",
      "4\n",
      "2\n",
      "3\n",
      "<pyrender.offscreen.OffscreenRenderer object at 0x7fd84f135e80>\n",
      "TROLL\n",
      "DOG\n",
      "4\n",
      "2\n",
      "3\n",
      "<pyrender.offscreen.OffscreenRenderer object at 0x7fd84f38b310>\n",
      "TROLL\n",
      "DOG\n",
      "4\n",
      "2\n",
      "3\n",
      "<pyrender.offscreen.OffscreenRenderer object at 0x7fd84f112d00>\n",
      "TROLL\n",
      "DOG\n",
      "4\n",
      "2\n",
      "3\n",
      "<pyrender.offscreen.OffscreenRenderer object at 0x7fd84cfe2b80>\n",
      "TROLL\n",
      "DOG\n",
      "4\n",
      "2\n",
      "3\n",
      "<pyrender.offscreen.OffscreenRenderer object at 0x7fd84cc76970>\n",
      "TROLL\n",
      "DOG\n",
      "4\n",
      "5\n",
      "Simm:  0.8120015023917231\n",
      "[blackbox] evaluating batch 2/10000 (samples 2..2/10000) @ 2021-05-11 15:24:36 ...\n",
      "Iteration\n",
      "2\n",
      "3\n",
      "4\n",
      "1\n",
      "2\n",
      "3\n"
     ]
    },
    {
     "name": "stderr",
     "output_type": "stream",
     "text": [
      "Process ForkPoolWorker-13:\n",
      "Process ForkPoolWorker-14:\n",
      "Process ForkPoolWorker-16:\n",
      "Process ForkPoolWorker-17:\n",
      "Process ForkPoolWorker-12:\n",
      "Traceback (most recent call last):\n",
      "Traceback (most recent call last):\n",
      "Traceback (most recent call last):\n"
     ]
    },
    {
     "ename": "KeyboardInterrupt",
     "evalue": "",
     "output_type": "error",
     "traceback": [
      "\u001b[0;31m---------------------------------------------------------------------------\u001b[0m",
      "\u001b[0;31mKeyboardInterrupt\u001b[0m                         Traceback (most recent call last)",
      "\u001b[0;32m<ipython-input-8-10aa6f3a4b6d>\u001b[0m in \u001b[0;36m<module>\u001b[0;34m\u001b[0m\n\u001b[1;32m      3\u001b[0m \u001b[0mdomain\u001b[0m \u001b[0;34m=\u001b[0m \u001b[0;34m[\u001b[0m\u001b[0;34m[\u001b[0m\u001b[0;36m0.\u001b[0m\u001b[0;34m,\u001b[0m \u001b[0mlen\u001b[0m\u001b[0;34m(\u001b[0m\u001b[0mblock_names\u001b[0m\u001b[0;34m)\u001b[0m \u001b[0;34m-\u001b[0m \u001b[0;36m1\u001b[0m\u001b[0;34m]\u001b[0m\u001b[0;34m]\u001b[0m \u001b[0;34m*\u001b[0m \u001b[0mlen\u001b[0m\u001b[0;34m(\u001b[0m\u001b[0mvalid_voxels\u001b[0m\u001b[0;34m)\u001b[0m\u001b[0;34m\u001b[0m\u001b[0;34m\u001b[0m\u001b[0m\n\u001b[1;32m      4\u001b[0m \u001b[0;34m\u001b[0m\u001b[0m\n\u001b[0;32m----> 5\u001b[0;31m best_params = bb.search_min(f = bb_fun,\n\u001b[0m\u001b[1;32m      6\u001b[0m                             \u001b[0mdomain\u001b[0m \u001b[0;34m=\u001b[0m \u001b[0mdomain\u001b[0m\u001b[0;34m,\u001b[0m\u001b[0;34m\u001b[0m\u001b[0;34m\u001b[0m\u001b[0m\n\u001b[1;32m      7\u001b[0m                             \u001b[0mbudget\u001b[0m \u001b[0;34m=\u001b[0m \u001b[0;36m10000\u001b[0m\u001b[0;34m,\u001b[0m  \u001b[0;31m# total number of function calls available\u001b[0m\u001b[0;34m\u001b[0m\u001b[0;34m\u001b[0m\u001b[0m\n",
      "\u001b[0;32m~/anaconda3/envs/ml/lib/python3.8/site-packages/black_box/blackbox.py\u001b[0m in \u001b[0;36msearch_min\u001b[0;34m(f, domain, budget, batch, resfile, rho0, p, executor)\u001b[0m\n\u001b[1;32m     71\u001b[0m \u001b[0;34m\u001b[0m\u001b[0m\n\u001b[1;32m     72\u001b[0m         \u001b[0;32mwith\u001b[0m \u001b[0mexecutor\u001b[0m\u001b[0;34m(\u001b[0m\u001b[0;34m)\u001b[0m \u001b[0;32mas\u001b[0m \u001b[0me\u001b[0m\u001b[0;34m:\u001b[0m\u001b[0;34m\u001b[0m\u001b[0;34m\u001b[0m\u001b[0m\n\u001b[0;32m---> 73\u001b[0;31m             \u001b[0mpoints\u001b[0m\u001b[0;34m[\u001b[0m\u001b[0mbatch\u001b[0m\u001b[0;34m*\u001b[0m\u001b[0mi\u001b[0m\u001b[0;34m:\u001b[0m\u001b[0mbatch\u001b[0m\u001b[0;34m*\u001b[0m\u001b[0;34m(\u001b[0m\u001b[0mi\u001b[0m\u001b[0;34m+\u001b[0m\u001b[0;36m1\u001b[0m\u001b[0;34m)\u001b[0m\u001b[0;34m,\u001b[0m \u001b[0;34m-\u001b[0m\u001b[0;36m1\u001b[0m\u001b[0;34m]\u001b[0m \u001b[0;34m=\u001b[0m \u001b[0mlist\u001b[0m\u001b[0;34m(\u001b[0m\u001b[0me\u001b[0m\u001b[0;34m.\u001b[0m\u001b[0mmap\u001b[0m\u001b[0;34m(\u001b[0m\u001b[0mf\u001b[0m\u001b[0;34m,\u001b[0m \u001b[0mlist\u001b[0m\u001b[0;34m(\u001b[0m\u001b[0mmap\u001b[0m\u001b[0;34m(\u001b[0m\u001b[0mcubetobox\u001b[0m\u001b[0;34m,\u001b[0m \u001b[0mpoints\u001b[0m\u001b[0;34m[\u001b[0m\u001b[0mbatch\u001b[0m\u001b[0;34m*\u001b[0m\u001b[0mi\u001b[0m\u001b[0;34m:\u001b[0m\u001b[0mbatch\u001b[0m\u001b[0;34m*\u001b[0m\u001b[0;34m(\u001b[0m\u001b[0mi\u001b[0m\u001b[0;34m+\u001b[0m\u001b[0;36m1\u001b[0m\u001b[0;34m)\u001b[0m\u001b[0;34m,\u001b[0m \u001b[0;36m0\u001b[0m\u001b[0;34m:\u001b[0m\u001b[0;34m-\u001b[0m\u001b[0;36m1\u001b[0m\u001b[0;34m]\u001b[0m\u001b[0;34m)\u001b[0m\u001b[0;34m)\u001b[0m\u001b[0;34m)\u001b[0m\u001b[0;34m)\u001b[0m\u001b[0;34m\u001b[0m\u001b[0;34m\u001b[0m\u001b[0m\n\u001b[0m\u001b[1;32m     74\u001b[0m \u001b[0;34m\u001b[0m\u001b[0m\n\u001b[1;32m     75\u001b[0m     \u001b[0;31m# normalizing function values\u001b[0m\u001b[0;34m\u001b[0m\u001b[0;34m\u001b[0m\u001b[0;34m\u001b[0m\u001b[0m\n",
      "\u001b[0;32m~/anaconda3/envs/ml/lib/python3.8/multiprocessing/pool.py\u001b[0m in \u001b[0;36mmap\u001b[0;34m(self, func, iterable, chunksize)\u001b[0m\n\u001b[1;32m    362\u001b[0m         \u001b[0;32min\u001b[0m \u001b[0ma\u001b[0m \u001b[0mlist\u001b[0m \u001b[0mthat\u001b[0m \u001b[0;32mis\u001b[0m \u001b[0mreturned\u001b[0m\u001b[0;34m.\u001b[0m\u001b[0;34m\u001b[0m\u001b[0;34m\u001b[0m\u001b[0m\n\u001b[1;32m    363\u001b[0m         '''\n\u001b[0;32m--> 364\u001b[0;31m         \u001b[0;32mreturn\u001b[0m \u001b[0mself\u001b[0m\u001b[0;34m.\u001b[0m\u001b[0m_map_async\u001b[0m\u001b[0;34m(\u001b[0m\u001b[0mfunc\u001b[0m\u001b[0;34m,\u001b[0m \u001b[0miterable\u001b[0m\u001b[0;34m,\u001b[0m \u001b[0mmapstar\u001b[0m\u001b[0;34m,\u001b[0m \u001b[0mchunksize\u001b[0m\u001b[0;34m)\u001b[0m\u001b[0;34m.\u001b[0m\u001b[0mget\u001b[0m\u001b[0;34m(\u001b[0m\u001b[0;34m)\u001b[0m\u001b[0;34m\u001b[0m\u001b[0;34m\u001b[0m\u001b[0m\n\u001b[0m\u001b[1;32m    365\u001b[0m \u001b[0;34m\u001b[0m\u001b[0m\n\u001b[1;32m    366\u001b[0m     \u001b[0;32mdef\u001b[0m \u001b[0mstarmap\u001b[0m\u001b[0;34m(\u001b[0m\u001b[0mself\u001b[0m\u001b[0;34m,\u001b[0m \u001b[0mfunc\u001b[0m\u001b[0;34m,\u001b[0m \u001b[0miterable\u001b[0m\u001b[0;34m,\u001b[0m \u001b[0mchunksize\u001b[0m\u001b[0;34m=\u001b[0m\u001b[0;32mNone\u001b[0m\u001b[0;34m)\u001b[0m\u001b[0;34m:\u001b[0m\u001b[0;34m\u001b[0m\u001b[0;34m\u001b[0m\u001b[0m\n",
      "\u001b[0;32m~/anaconda3/envs/ml/lib/python3.8/multiprocessing/pool.py\u001b[0m in \u001b[0;36mget\u001b[0;34m(self, timeout)\u001b[0m\n\u001b[1;32m    763\u001b[0m \u001b[0;34m\u001b[0m\u001b[0m\n\u001b[1;32m    764\u001b[0m     \u001b[0;32mdef\u001b[0m \u001b[0mget\u001b[0m\u001b[0;34m(\u001b[0m\u001b[0mself\u001b[0m\u001b[0;34m,\u001b[0m \u001b[0mtimeout\u001b[0m\u001b[0;34m=\u001b[0m\u001b[0;32mNone\u001b[0m\u001b[0;34m)\u001b[0m\u001b[0;34m:\u001b[0m\u001b[0;34m\u001b[0m\u001b[0;34m\u001b[0m\u001b[0m\n\u001b[0;32m--> 765\u001b[0;31m         \u001b[0mself\u001b[0m\u001b[0;34m.\u001b[0m\u001b[0mwait\u001b[0m\u001b[0;34m(\u001b[0m\u001b[0mtimeout\u001b[0m\u001b[0;34m)\u001b[0m\u001b[0;34m\u001b[0m\u001b[0;34m\u001b[0m\u001b[0m\n\u001b[0m\u001b[1;32m    766\u001b[0m         \u001b[0;32mif\u001b[0m \u001b[0;32mnot\u001b[0m \u001b[0mself\u001b[0m\u001b[0;34m.\u001b[0m\u001b[0mready\u001b[0m\u001b[0;34m(\u001b[0m\u001b[0;34m)\u001b[0m\u001b[0;34m:\u001b[0m\u001b[0;34m\u001b[0m\u001b[0;34m\u001b[0m\u001b[0m\n\u001b[1;32m    767\u001b[0m             \u001b[0;32mraise\u001b[0m \u001b[0mTimeoutError\u001b[0m\u001b[0;34m\u001b[0m\u001b[0;34m\u001b[0m\u001b[0m\n",
      "\u001b[0;32m~/anaconda3/envs/ml/lib/python3.8/multiprocessing/pool.py\u001b[0m in \u001b[0;36mwait\u001b[0;34m(self, timeout)\u001b[0m\n\u001b[1;32m    760\u001b[0m \u001b[0;34m\u001b[0m\u001b[0m\n\u001b[1;32m    761\u001b[0m     \u001b[0;32mdef\u001b[0m \u001b[0mwait\u001b[0m\u001b[0;34m(\u001b[0m\u001b[0mself\u001b[0m\u001b[0;34m,\u001b[0m \u001b[0mtimeout\u001b[0m\u001b[0;34m=\u001b[0m\u001b[0;32mNone\u001b[0m\u001b[0;34m)\u001b[0m\u001b[0;34m:\u001b[0m\u001b[0;34m\u001b[0m\u001b[0;34m\u001b[0m\u001b[0m\n\u001b[0;32m--> 762\u001b[0;31m         \u001b[0mself\u001b[0m\u001b[0;34m.\u001b[0m\u001b[0m_event\u001b[0m\u001b[0;34m.\u001b[0m\u001b[0mwait\u001b[0m\u001b[0;34m(\u001b[0m\u001b[0mtimeout\u001b[0m\u001b[0;34m)\u001b[0m\u001b[0;34m\u001b[0m\u001b[0;34m\u001b[0m\u001b[0m\n\u001b[0m\u001b[1;32m    763\u001b[0m \u001b[0;34m\u001b[0m\u001b[0m\n\u001b[1;32m    764\u001b[0m     \u001b[0;32mdef\u001b[0m \u001b[0mget\u001b[0m\u001b[0;34m(\u001b[0m\u001b[0mself\u001b[0m\u001b[0;34m,\u001b[0m \u001b[0mtimeout\u001b[0m\u001b[0;34m=\u001b[0m\u001b[0;32mNone\u001b[0m\u001b[0;34m)\u001b[0m\u001b[0;34m:\u001b[0m\u001b[0;34m\u001b[0m\u001b[0;34m\u001b[0m\u001b[0m\n",
      "\u001b[0;32m~/anaconda3/envs/ml/lib/python3.8/threading.py\u001b[0m in \u001b[0;36mwait\u001b[0;34m(self, timeout)\u001b[0m\n\u001b[1;32m    556\u001b[0m             \u001b[0msignaled\u001b[0m \u001b[0;34m=\u001b[0m \u001b[0mself\u001b[0m\u001b[0;34m.\u001b[0m\u001b[0m_flag\u001b[0m\u001b[0;34m\u001b[0m\u001b[0;34m\u001b[0m\u001b[0m\n\u001b[1;32m    557\u001b[0m             \u001b[0;32mif\u001b[0m \u001b[0;32mnot\u001b[0m \u001b[0msignaled\u001b[0m\u001b[0;34m:\u001b[0m\u001b[0;34m\u001b[0m\u001b[0;34m\u001b[0m\u001b[0m\n\u001b[0;32m--> 558\u001b[0;31m                 \u001b[0msignaled\u001b[0m \u001b[0;34m=\u001b[0m \u001b[0mself\u001b[0m\u001b[0;34m.\u001b[0m\u001b[0m_cond\u001b[0m\u001b[0;34m.\u001b[0m\u001b[0mwait\u001b[0m\u001b[0;34m(\u001b[0m\u001b[0mtimeout\u001b[0m\u001b[0;34m)\u001b[0m\u001b[0;34m\u001b[0m\u001b[0;34m\u001b[0m\u001b[0m\n\u001b[0m\u001b[1;32m    559\u001b[0m             \u001b[0;32mreturn\u001b[0m \u001b[0msignaled\u001b[0m\u001b[0;34m\u001b[0m\u001b[0;34m\u001b[0m\u001b[0m\n\u001b[1;32m    560\u001b[0m \u001b[0;34m\u001b[0m\u001b[0m\n",
      "\u001b[0;32m~/anaconda3/envs/ml/lib/python3.8/threading.py\u001b[0m in \u001b[0;36mwait\u001b[0;34m(self, timeout)\u001b[0m\n\u001b[1;32m    300\u001b[0m         \u001b[0;32mtry\u001b[0m\u001b[0;34m:\u001b[0m    \u001b[0;31m# restore state no matter what (e.g., KeyboardInterrupt)\u001b[0m\u001b[0;34m\u001b[0m\u001b[0;34m\u001b[0m\u001b[0m\n\u001b[1;32m    301\u001b[0m             \u001b[0;32mif\u001b[0m \u001b[0mtimeout\u001b[0m \u001b[0;32mis\u001b[0m \u001b[0;32mNone\u001b[0m\u001b[0;34m:\u001b[0m\u001b[0;34m\u001b[0m\u001b[0;34m\u001b[0m\u001b[0m\n\u001b[0;32m--> 302\u001b[0;31m                 \u001b[0mwaiter\u001b[0m\u001b[0;34m.\u001b[0m\u001b[0macquire\u001b[0m\u001b[0;34m(\u001b[0m\u001b[0;34m)\u001b[0m\u001b[0;34m\u001b[0m\u001b[0;34m\u001b[0m\u001b[0m\n\u001b[0m\u001b[1;32m    303\u001b[0m                 \u001b[0mgotit\u001b[0m \u001b[0;34m=\u001b[0m \u001b[0;32mTrue\u001b[0m\u001b[0;34m\u001b[0m\u001b[0;34m\u001b[0m\u001b[0m\n\u001b[1;32m    304\u001b[0m             \u001b[0;32melse\u001b[0m\u001b[0;34m:\u001b[0m\u001b[0;34m\u001b[0m\u001b[0;34m\u001b[0m\u001b[0m\n",
      "\u001b[0;31mKeyboardInterrupt\u001b[0m: "
     ]
    }
   ],
   "source": [
    "# From https://github.com/paulknysh/blackbox\n",
    "\n",
    "domain = [[0., len(block_names) - 1]] * len(valid_voxels)\n",
    "\n",
    "best_params = bb.search_min(f = bb_fun,\n",
    "                            domain = domain,\n",
    "                            budget = 10000,  # total number of function calls available\n",
    "                            batch = 1,  # number of calls that will be evaluated in parallel\n",
    "                            resfile = 'optim_output.csv')  # text file where results will be saved"
   ]
  },
  {
   "cell_type": "code",
   "execution_count": 2,
   "id": "visible-cricket",
   "metadata": {},
   "outputs": [],
   "source": [
    "import cma"
   ]
  },
  {
   "cell_type": "code",
   "execution_count": 9,
   "id": "outdoor-universal",
   "metadata": {},
   "outputs": [
    {
     "name": "stdout",
     "output_type": "stream",
     "text": [
      "(5_w,11)-aCMA-ES (mu_w=3.4,w_1=42%) in dimension 12 (seed=913484, Tue May 11 15:52:42 2021)\n"
     ]
    }
   ],
   "source": []
  },
  {
   "cell_type": "code",
   "execution_count": 11,
   "id": "activated-tackle",
   "metadata": {},
   "outputs": [
    {
     "ename": "AttributeError",
     "evalue": "'list' object has no attribute 'shape'",
     "output_type": "error",
     "traceback": [
      "\u001b[0;31m---------------------------------------------------------------------------\u001b[0m",
      "\u001b[0;31mAttributeError\u001b[0m                            Traceback (most recent call last)",
      "\u001b[0;32m<ipython-input-11-6088b3a0786a>\u001b[0m in \u001b[0;36m<module>\u001b[0;34m\u001b[0m\n\u001b[0;32m----> 1\u001b[0;31m \u001b[0mes\u001b[0m\u001b[0;34m.\u001b[0m\u001b[0mask\u001b[0m\u001b[0;34m(\u001b[0m\u001b[0;34m)\u001b[0m\u001b[0;34m.\u001b[0m\u001b[0mshape\u001b[0m\u001b[0;34m\u001b[0m\u001b[0;34m\u001b[0m\u001b[0m\n\u001b[0m",
      "\u001b[0;31mAttributeError\u001b[0m: 'list' object has no attribute 'shape'"
     ]
    }
   ],
   "source": []
  },
  {
   "cell_type": "code",
   "execution_count": 22,
   "id": "accredited-jimmy",
   "metadata": {},
   "outputs": [
    {
     "name": "stdout",
     "output_type": "stream",
     "text": [
      "(3_w,6)-aCMA-ES (mu_w=2.0,w_1=63%) in dimension 2 (seed=935796, Tue May 11 16:48:56 2021)\n",
      "[-0.38636592  0.28396956]\n",
      "Iterat #Fevals   function value  axis ratio  sigma  min&max std  t[m:s]\n",
      "    1      6 5.018191738132921e+00 1.0e+00 4.50e-01  4e-01  4e-01 0:00.0\n",
      "[0.59828261 0.16483184]\n",
      "    2     12 4.226194552312396e+00 1.2e+00 6.88e-01  7e-01  7e-01 0:00.0\n",
      "[ 1.13103599 -0.1639876 ]\n",
      "    3     18 3.868964014772608e+00 1.1e+00 7.71e-01  7e-01  7e-01 0:00.0\n",
      "[ 1.68986653 -0.27867358]\n",
      "[2.76832974 1.04107413]\n",
      "[2.28527678 0.4858323 ]\n",
      "[2.4267132  1.73735838]\n",
      "[ 4.24236765 -1.8906357 ]\n",
      "[5.94814399 1.88386013]\n",
      "[5.06396935 1.27666474]\n",
      "[4.10921274 0.88877323]\n",
      "[5.76454782 0.27171888]\n",
      "[5.56508424 0.5957595 ]\n",
      "[5.32898173 2.43420847]\n",
      "[4.77828238 5.44469946]\n",
      "[ 4.42280924 -1.72561031]\n",
      "[ 5.06111643 -0.28398739]\n",
      "[ 5.2008187  -0.74688522]\n",
      "[5.07498344 0.5245781 ]\n",
      "[5.04916839 0.76427798]\n",
      "[5.04387278 0.13705852]\n",
      "[4.98949445 1.12819495]\n",
      "[ 5.0988863  -0.95899859]\n",
      "[ 4.97030536 -0.18138126]\n",
      "[ 4.9728541  -1.15233607]\n",
      "[ 5.01387228 -0.56605063]\n",
      "[ 5.0148293  -0.59414813]\n",
      "[ 5.00997071 -0.95221837]\n",
      "[4.9783443  0.14089339]\n",
      "[ 4.99866796 -0.71661229]\n",
      "[ 5.0076338  -1.49042002]\n",
      "[ 5.00523977 -0.19585731]\n",
      "[ 4.99576564 -0.67060262]\n",
      "[ 4.99041227 -0.56721155]\n",
      "[ 5.00186432 -0.61862394]\n",
      "[ 4.99585718 -0.35254163]\n",
      "[ 4.99441039 -1.160386  ]\n",
      "[ 4.99691745 -0.56722433]\n",
      "[ 4.99843505 -1.58428813]\n",
      "[ 5.00118298 -1.57260599]\n",
      "[ 5.00107204 -1.22129031]\n",
      "[ 5.00128415 -1.52428811]\n",
      "[ 4.9985475  -1.33315247]\n",
      "[ 4.99953568 -1.23290047]\n",
      "[ 4.99878895 -0.97902734]\n",
      "[ 4.99959663 -1.1709565 ]\n",
      "[ 4.99941575 -0.94613163]\n",
      "[ 5.00008135 -1.28109014]\n",
      "[ 5.00010595 -1.19831038]\n",
      "[ 4.99997515 -1.09586969]\n",
      "[ 5.00006912 -1.17200811]\n",
      "[ 4.99995405 -1.28069308]\n",
      "[ 4.99989424 -1.10136558]\n",
      "[ 5.00009132 -1.42191595]\n",
      "[ 4.99994164 -1.00238445]\n",
      "[ 4.99999806 -1.33250922]\n",
      "[ 5.00001665 -1.33595475]\n",
      "[ 5.00002774 -1.34353917]\n",
      "[ 5.00001073 -1.28882435]\n",
      "[ 4.99999358 -1.25591021]\n",
      "[ 4.99999953 -1.22235513]\n",
      "[ 5.0000035  -1.18380005]\n",
      "[ 4.99999434 -1.21623274]\n",
      "[ 4.99999888 -1.20553183]\n",
      "NOTE (module=cma, iteration=64):  \n",
      "condition in coordinate system exceeded 1.5e+08, rescaled to 1.0e+00, \n",
      "condition changed from 8.3e+07 to 1.4e+00\n",
      "[ 5.00000286 -1.20940544]\n",
      "[ 5.00000038 -1.15828567]\n",
      "[ 5.00000066 -1.16025063]\n",
      "[ 5.00000054 -1.19458938]\n",
      "[ 4.99999922 -1.15735032]\n",
      "[ 4.99999925 -1.1579856 ]\n",
      "[ 4.99999954 -1.14036235]\n",
      "[ 5.00000033 -0.90977235]\n",
      "[ 5.00000141 -1.00192435]\n",
      "[ 5.00000017 -0.98397549]\n",
      "[ 4.99999958 -1.13014416]\n",
      "[ 5.00000008 -1.04327565]\n",
      "[ 5.00000019 -1.03633467]\n",
      "[ 5.00000044 -1.17969922]\n",
      "[ 5.00000003 -1.1041169 ]\n",
      "[ 5.00000018 -1.14528688]\n",
      "[ 4.99999999 -1.0986447 ]\n",
      "[ 5.00000004 -1.10197957]\n",
      "[ 4.99999997 -1.1315298 ]\n",
      "[ 5.         -1.10635812]\n",
      "[ 5.         -1.11859739]\n",
      "[ 5.00000001 -1.11704472]\n",
      "[ 5.00000001 -1.11872522]\n",
      "[ 5.         -1.11833016]\n",
      "[ 4.99999999 -1.11337721]\n",
      "[ 5.        -1.1132393]\n",
      "[ 5.         -1.11110353]\n",
      "[ 5.         -1.11455643]\n",
      "[ 5.         -1.11735218]\n",
      "[ 5.         -1.11655657]\n",
      "[ 5.         -1.11475436]\n",
      "[ 5.         -1.11664878]\n",
      "[ 5.         -1.11685396]\n",
      "[ 5.         -1.11470019]\n",
      "[ 5.         -1.11676776]\n",
      "[ 5.         -1.11646212]\n",
      "  100    600 3.524291969370097e-12 5.4e+02 2.18e-04  4e-11  3e-04 0:00.1\n",
      "[ 5.         -1.11614937]\n",
      "[ 5.        -1.1163011]\n",
      "[ 5.         -1.11589452]\n",
      "[ 5.         -1.11605269]\n",
      "[ 5.         -1.11633927]\n",
      "[ 5.         -1.11632176]\n",
      "[ 5.         -1.11640887]\n",
      "[ 5.         -1.11653019]\n",
      "[ 5.         -1.11637489]\n",
      "[ 5.         -1.11646905]\n",
      "[ 5.         -1.11648103]\n",
      "[ 5.         -1.11642253]\n",
      "[ 5.         -1.11640533]\n",
      "[ 5.         -1.11651056]\n",
      "[ 5.         -1.11644241]\n",
      "[ 5.         -1.11657968]\n",
      "[ 5.         -1.11647213]\n",
      "NOTE (module=cma, iteration=117):  \n",
      "condition in coordinate system exceeded 1.0e+08, rescaled to 1.0e+00, \n",
      "condition changed from 1.4e+08 to 2.8e+00\n",
      "[ 5.         -1.11658294]\n",
      "[ 5.         -1.11654929]\n",
      "  119    714 7.105427357601002e-15 1.7e+00 2.16e-05  2e-13  3e-05 0:00.1\n",
      "termination on tolfun=1e-11\n",
      "final/bestever f-value = 7.105427e-15 7.105427e-15\n",
      "incumbent solution: [5.000000000000006, -1.1165869336199639]\n",
      "std deviation: [1.9827943377927574e-13, 2.940982830476676e-05]\n"
     ]
    },
    {
     "name": "stderr",
     "output_type": "stream",
     "text": [
      "/home/mfclinton/anaconda3/envs/ml/lib/python3.8/site-packages/cma/logger.py:874: MatplotlibDeprecationWarning: The global colormaps dictionary is no longer considered public API.\n",
      "  color = iter(pyplot.cm.cmap_d['plasma_r'](np.linspace(0.35, 1,\n"
     ]
    },
    {
     "data": {
      "text/plain": [
       "<cma.logger.CMADataLogger at 0x7f78b5c97910>"
      ]
     },
     "execution_count": 22,
     "metadata": {},
     "output_type": "execute_result"
    },
    {
     "data": {
      "image/png": "[encoded data removed]",
      "text/plain": [
       "<Figure size 432x288 with 4 Axes>"
      ]
     },
     "metadata": {
      "needs_background": "light"
     },
     "output_type": "display_data"
    }
   ],
   "source": [
    "import cma\n",
    "es = cma.CMAEvolutionStrategy(2 * [0], 0.5)\n",
    "while not es.stop():\n",
    "    solutions = es.ask()\n",
    "    es.tell(solutions, [abs(5-x[0]) for x in solutions])\n",
    "    print(solutions[0])\n",
    "#     print(solutions)\n",
    "    es.logger.add()  # write data to disc to be plotted\n",
    "    es.disp()\n",
    "es.result_pretty()\n",
    "cma.plot()  # shortcut for es.logger.plot()"
   ]
  },
  {
   "cell_type": "code",
   "execution_count": null,
   "id": "preceding-exclusive",
   "metadata": {},
   "outputs": [],
   "source": []
  }
 ],
 "metadata": {
  "kernelspec": {
   "display_name": "ml",
   "language": "python",
   "name": "ml"
  },
  "language_info": {
   "codemirror_mode": {
    "name": "ipython",
    "version": 3
   },
   "file_extension": ".py",
   "mimetype": "text/x-python",
   "name": "python",
   "nbconvert_exporter": "python",
   "pygments_lexer": "ipython3",
   "version": "3.8.8"
  }
 },
 "nbformat": 4,
 "nbformat_minor": 5
}
